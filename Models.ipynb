{
 "cells": [
  {
   "cell_type": "markdown",
   "id": "cd7d0ee0",
   "metadata": {},
   "source": [
    "# Model creation and training"
   ]
  },
  {
   "cell_type": "code",
   "execution_count": 1,
   "id": "0b0e40ff",
   "metadata": {},
   "outputs": [],
   "source": [
    "from sklearn.ensemble import RandomForestRegressor\n",
    "from sklearn.linear_model import LinearRegression, Ridge\n",
    "import xgboost as xgb\n",
    "from sklearn.svm import SVR\n",
    "from sklearn.model_selection import train_test_split\n",
    "from sklearn.metrics import mean_squared_error, mean_absolute_error, r2_score\n",
    "import pandas as pd\n",
    "import numpy as np\n",
    "from sklearn.neighbors import KNeighborsRegressor\n",
    "from sklearn.neural_network import MLPRegressor\n",
    "from sklearn.model_selection import GridSearchCV\n",
    "from sklearn.metrics import mean_squared_error\n",
    "import joblib"
   ]
  },
  {
   "cell_type": "code",
   "execution_count": 2,
   "id": "345fee01",
   "metadata": {},
   "outputs": [],
   "source": [
    "data=pd.read_csv('archive/train_norm.csv',index_col=0)\n",
    "#data=pd.read_csv('archive/train_cleaned.csv',index_col=0)"
   ]
  },
  {
   "cell_type": "code",
   "execution_count": 3,
   "id": "3b379878",
   "metadata": {},
   "outputs": [
    {
     "data": {
      "text/html": [
       "<div>\n",
       "<style scoped>\n",
       "    .dataframe tbody tr th:only-of-type {\n",
       "        vertical-align: middle;\n",
       "    }\n",
       "\n",
       "    .dataframe tbody tr th {\n",
       "        vertical-align: top;\n",
       "    }\n",
       "\n",
       "    .dataframe thead th {\n",
       "        text-align: right;\n",
       "    }\n",
       "</style>\n",
       "<table border=\"1\" class=\"dataframe\">\n",
       "  <thead>\n",
       "    <tr style=\"text-align: right;\">\n",
       "      <th></th>\n",
       "      <th>POSTED_BY</th>\n",
       "      <th>UNDER_CONSTRUCTION</th>\n",
       "      <th>RERA</th>\n",
       "      <th>BHK_NO.</th>\n",
       "      <th>SQUARE_FT</th>\n",
       "      <th>READY_TO_MOVE</th>\n",
       "      <th>RESALE</th>\n",
       "      <th>LONGITUDE</th>\n",
       "      <th>LATITUDE</th>\n",
       "      <th>TARGET(PRICE_IN_LACS)</th>\n",
       "    </tr>\n",
       "  </thead>\n",
       "  <tbody>\n",
       "    <tr>\n",
       "      <th>0</th>\n",
       "      <td>0.0</td>\n",
       "      <td>0</td>\n",
       "      <td>0</td>\n",
       "      <td>0.052632</td>\n",
       "      <td>0.006533</td>\n",
       "      <td>1</td>\n",
       "      <td>1</td>\n",
       "      <td>0.495849</td>\n",
       "      <td>0.671148</td>\n",
       "      <td>55.0</td>\n",
       "    </tr>\n",
       "    <tr>\n",
       "      <th>1</th>\n",
       "      <td>0.5</td>\n",
       "      <td>0</td>\n",
       "      <td>0</td>\n",
       "      <td>0.052632</td>\n",
       "      <td>0.006406</td>\n",
       "      <td>1</td>\n",
       "      <td>1</td>\n",
       "      <td>0.489136</td>\n",
       "      <td>0.667939</td>\n",
       "      <td>51.0</td>\n",
       "    </tr>\n",
       "    <tr>\n",
       "      <th>2</th>\n",
       "      <td>0.0</td>\n",
       "      <td>0</td>\n",
       "      <td>0</td>\n",
       "      <td>0.052632</td>\n",
       "      <td>0.004685</td>\n",
       "      <td>1</td>\n",
       "      <td>1</td>\n",
       "      <td>0.493996</td>\n",
       "      <td>0.671263</td>\n",
       "      <td>43.0</td>\n",
       "    </tr>\n",
       "    <tr>\n",
       "      <th>3</th>\n",
       "      <td>0.0</td>\n",
       "      <td>0</td>\n",
       "      <td>1</td>\n",
       "      <td>0.052632</td>\n",
       "      <td>0.004668</td>\n",
       "      <td>1</td>\n",
       "      <td>1</td>\n",
       "      <td>0.647126</td>\n",
       "      <td>0.670295</td>\n",
       "      <td>62.5</td>\n",
       "    </tr>\n",
       "    <tr>\n",
       "      <th>4</th>\n",
       "      <td>0.5</td>\n",
       "      <td>1</td>\n",
       "      <td>0</td>\n",
       "      <td>0.052632</td>\n",
       "      <td>0.005016</td>\n",
       "      <td>0</td>\n",
       "      <td>1</td>\n",
       "      <td>0.588728</td>\n",
       "      <td>0.707792</td>\n",
       "      <td>60.5</td>\n",
       "    </tr>\n",
       "  </tbody>\n",
       "</table>\n",
       "</div>"
      ],
      "text/plain": [
       "   POSTED_BY  UNDER_CONSTRUCTION  RERA   BHK_NO.  SQUARE_FT  READY_TO_MOVE  \\\n",
       "0        0.0                   0     0  0.052632   0.006533              1   \n",
       "1        0.5                   0     0  0.052632   0.006406              1   \n",
       "2        0.0                   0     0  0.052632   0.004685              1   \n",
       "3        0.0                   0     1  0.052632   0.004668              1   \n",
       "4        0.5                   1     0  0.052632   0.005016              0   \n",
       "\n",
       "   RESALE  LONGITUDE  LATITUDE  TARGET(PRICE_IN_LACS)  \n",
       "0       1   0.495849  0.671148                   55.0  \n",
       "1       1   0.489136  0.667939                   51.0  \n",
       "2       1   0.493996  0.671263                   43.0  \n",
       "3       1   0.647126  0.670295                   62.5  \n",
       "4       1   0.588728  0.707792                   60.5  "
      ]
     },
     "execution_count": 3,
     "metadata": {},
     "output_type": "execute_result"
    }
   ],
   "source": [
    "data.head()"
   ]
  },
  {
   "cell_type": "code",
   "execution_count": 4,
   "id": "b4733d69",
   "metadata": {},
   "outputs": [],
   "source": [
    "y=data['TARGET(PRICE_IN_LACS)']\n",
    "X=data.drop(['TARGET(PRICE_IN_LACS)'],axis=1)"
   ]
  },
  {
   "cell_type": "code",
   "execution_count": 5,
   "id": "5fa09d06",
   "metadata": {},
   "outputs": [],
   "source": [
    "X_train, X_test, y_train, y_test = train_test_split(X, y, test_size=0.2, random_state=42)"
   ]
  },
  {
   "cell_type": "code",
   "execution_count": null,
   "id": "0d6370a4",
   "metadata": {},
   "outputs": [],
   "source": [
    "score_dict={}\n",
    "def score_dict_add(score_dict,model,mse,mae,r2,y_pred):\n",
    "    score_dict[model]={\"R2 Score\":r2,\n",
    "                       \"Mean Squared Error\": mse,\n",
    "                       \"Mean Absolute Error\": mae,\n",
    "                       \"y_pred\":y_pred}\n",
    "    return score_dict"
   ]
  },
  {
   "cell_type": "markdown",
   "id": "6ffd7851",
   "metadata": {},
   "source": [
    "## Random Forest Regressor"
   ]
  },
  {
   "cell_type": "code",
   "execution_count": null,
   "id": "241f7b93",
   "metadata": {},
   "outputs": [],
   "source": [
    "# Creating the Random Forest regressor\n",
    "rf_regressor = RandomForestRegressor(n_estimators=100, random_state=42)\n",
    "\n",
    "# Training the model\n",
    "rf_regressor.fit(X_train, y_train)\n",
    "\n",
    "# Making predictions on the test set\n",
    "y_pred = rf_regressor.predict(X_test)\n",
    "\n",
    "# Evaluating the model's performance\n",
    "mse = mean_squared_error(y_test, y_pred)\n",
    "mae = mean_absolute_error(y_test, y_pred)\n",
    "r2 = r2_score(y_test, y_pred)\n",
    "\n",
    "score_dict=score_dict_add(score_dict,\"Random Forest Regression\",mse,mae,r2,y_pred)"
   ]
  },
  {
   "cell_type": "markdown",
   "id": "4def114f",
   "metadata": {},
   "source": [
    "## XGB Regressor"
   ]
  },
  {
   "cell_type": "code",
   "execution_count": null,
   "id": "2acb0a4f",
   "metadata": {},
   "outputs": [],
   "source": [
    "# Creating the XGBoost regressor\n",
    "xgb_regressor = xgb.XGBRegressor(n_estimators=100, random_state=42)\n",
    "\n",
    "# Training the model\n",
    "xgb_regressor.fit(X_train, y_train)\n",
    "\n",
    "# Making predictions on the test set\n",
    "y_pred = xgb_regressor.predict(X_test)\n",
    "\n",
    "# Evaluating the model's performance\n",
    "mse = mean_squared_error(y_test, y_pred)\n",
    "mae = mean_absolute_error(y_test, y_pred)\n",
    "r2 = r2_score(y_test, y_pred)\n",
    "\n",
    "score_dict=score_dict_add(score_dict,\"XGBoost Regression\",mse,mae,r2,y_pred)\n"
   ]
  },
  {
   "cell_type": "markdown",
   "id": "a37e3974",
   "metadata": {},
   "source": [
    "## Support Vector Regression"
   ]
  },
  {
   "cell_type": "code",
   "execution_count": null,
   "id": "f8e320e8",
   "metadata": {},
   "outputs": [],
   "source": [
    "# Creating the SVR model\n",
    "svr_regressor = SVR()\n",
    "\n",
    "# Training the model\n",
    "svr_regressor.fit(X_train, y_train)\n",
    "\n",
    "# Making predictions on the test set\n",
    "y_pred = svr_regressor.predict(X_test)\n",
    "\n",
    "# Evaluating the model's performance\n",
    "mse = mean_squared_error(y_test, y_pred)\n",
    "mae = mean_absolute_error(y_test, y_pred)\n",
    "r2 = r2_score(y_test, y_pred)\n",
    "\n",
    "score_dict=score_dict_add(score_dict,\"Support Vector Regression\",mse,mae,r2,y_pred)"
   ]
  },
  {
   "cell_type": "markdown",
   "id": "28bf250e",
   "metadata": {},
   "source": [
    "## Linear Regression"
   ]
  },
  {
   "cell_type": "code",
   "execution_count": null,
   "id": "bb3cac40",
   "metadata": {},
   "outputs": [],
   "source": [
    "# Creating the Linear Regression model\n",
    "linear_regressor = LinearRegression()\n",
    "\n",
    "# Training the model\n",
    "linear_regressor.fit(X_train, y_train)\n",
    "\n",
    "# Making predictions on the test set\n",
    "y_pred = linear_regressor.predict(X_test)\n",
    "\n",
    "# Evaluating the model's performance\n",
    "mse = mean_squared_error(y_test, y_pred)\n",
    "mae = mean_absolute_error(y_test, y_pred)\n",
    "r2 = r2_score(y_test, y_pred)\n",
    "\n",
    "score_dict=score_dict_add(score_dict,\"Linear Regression\",mse,mae,r2,y_pred)"
   ]
  },
  {
   "cell_type": "markdown",
   "id": "fa93547f",
   "metadata": {},
   "source": [
    "## Ridge Regression"
   ]
  },
  {
   "cell_type": "code",
   "execution_count": null,
   "id": "7a9532d0",
   "metadata": {},
   "outputs": [],
   "source": [
    "# Creating the Ridge Regression model\n",
    "ridge_regressor = Ridge(alpha=0.5)\n",
    "\n",
    "# Training the model\n",
    "ridge_regressor.fit(X_train, y_train)\n",
    "\n",
    "# Making predictions on the test set\n",
    "y_pred = ridge_regressor.predict(X_test)\n",
    "\n",
    "# Evaluating the model's performance\n",
    "mse = mean_squared_error(y_test, y_pred)\n",
    "mae = mean_absolute_error(y_test, y_pred)\n",
    "r2 = r2_score(y_test, y_pred)\n",
    "\n",
    "score_dict=score_dict_add(score_dict,\"Ridge Regression\",mse,mae,r2,y_pred)"
   ]
  },
  {
   "cell_type": "markdown",
   "id": "5edecbfb",
   "metadata": {},
   "source": [
    "## KNN regressor"
   ]
  },
  {
   "cell_type": "code",
   "execution_count": null,
   "id": "77aa5327",
   "metadata": {},
   "outputs": [],
   "source": [
    "# Creating the KNN regressor\n",
    "k = 5  # Number of neighbors to consider\n",
    "knn_regressor = KNeighborsRegressor(n_neighbors=k)\n",
    "\n",
    "# Training the model\n",
    "knn_regressor.fit(X_train, y_train)\n",
    "\n",
    "# Making predictions on the test set\n",
    "y_pred = knn_regressor.predict(X_test)\n",
    "\n",
    "# Evaluating the model's performance\n",
    "mse = mean_squared_error(y_test, y_pred)\n",
    "mae = mean_absolute_error(y_test, y_pred)\n",
    "r2 = r2_score(y_test, y_pred)\n",
    "\n",
    "score_dict=score_dict_add(score_dict,\"KNN Regression\",mse,mae,r2,y_pred)"
   ]
  },
  {
   "cell_type": "markdown",
   "id": "165deb61",
   "metadata": {},
   "source": [
    "# Auto ML - Hyperparameter tuning"
   ]
  },
  {
   "cell_type": "markdown",
   "id": "83700e6c",
   "metadata": {},
   "source": [
    "## Random Forest Regressor"
   ]
  },
  {
   "cell_type": "code",
   "execution_count": 5,
   "id": "8eb44a83",
   "metadata": {},
   "outputs": [
    {
     "data": {
      "text/plain": [
       "GridSearchCV(cv=5, estimator=RandomForestRegressor(random_state=42),\n",
       "             param_grid={'max_depth': [None, 5, 10, 20],\n",
       "                         'max_features': ['auto', 'sqrt', 'log2'],\n",
       "                         'n_estimators': [50, 100, 150]},\n",
       "             scoring='neg_mean_squared_error')"
      ]
     },
     "execution_count": 5,
     "metadata": {},
     "output_type": "execute_result"
    }
   ],
   "source": [
    "# Create the RandomForestRegressor model\n",
    "rf_regressor = RandomForestRegressor(random_state=42)\n",
    "\n",
    "# Define the hyperparameters and their ranges to tune\n",
    "param_grid = {\n",
    "    'n_estimators': [50, 100, 150],  # Number of trees in the forest\n",
    "    'max_features': ['auto', 'sqrt', 'log2'],  # Number of features to consider at each split\n",
    "    'max_depth': [None, 5, 10, 20],  # Maximum depth of the tree\n",
    "}\n",
    "\n",
    "# Perform grid search using cross-validation\n",
    "grid_search = GridSearchCV(rf_regressor, param_grid, scoring='neg_mean_squared_error', cv=5)\n",
    "grid_search.fit(X_train, y_train)  # X and y are your training data and labels"
   ]
  },
  {
   "cell_type": "code",
   "execution_count": 7,
   "id": "8a98fbba",
   "metadata": {},
   "outputs": [
    {
     "data": {
      "text/plain": [
       "['models/RFR.pkl']"
      ]
     },
     "execution_count": 7,
     "metadata": {},
     "output_type": "execute_result"
    }
   ],
   "source": [
    "# Get the best hyperparameters and model\n",
    "best_params = grid_search.best_params_\n",
    "best_model = grid_search.best_estimator_\n",
    "\n",
    "# Train the model with the best hyperparameters\n",
    "best_model.fit(X_train, y_train)  # X and y are your training data and labels\n",
    "\n",
    "# Save the best model to a file\n",
    "joblib.dump(best_model, 'models/RFR.pkl')"
   ]
  },
  {
   "cell_type": "markdown",
   "id": "57acb134",
   "metadata": {},
   "source": [
    "## MLP Regressor"
   ]
  },
  {
   "cell_type": "code",
   "execution_count": null,
   "id": "0772d100",
   "metadata": {},
   "outputs": [],
   "source": [
    "# Create the MLPRegressor model\n",
    "model = MLPRegressor(random_state=42)\n",
    "\n",
    "param_grid = {\n",
    "    'hidden_layer_sizes': [(np.random.randint(64, 100),), \n",
    "                           (np.random.randint(64, 100),np.random.randint(64, 100)), \n",
    "                           (np.random.randint(64, 100),np.random.randint(64, 100),np.random.randint(64, 100))],\n",
    "    'activation': ['relu', 'tanh'],\n",
    "    'solver': ['adam', 'lbfgs'],\n",
    "    'learning_rate':['constant', 'adaptive'],\n",
    "    'max_iter': [10000],\n",
    "    'batch_size': [512]\n",
    "}\n",
    "\n",
    "# Perform grid search with cross-validation\n",
    "grid_search = GridSearchCV(model, param_grid, cv=5)\n",
    "grid_search.fit(X, y)"
   ]
  },
  {
   "cell_type": "code",
   "execution_count": null,
   "id": "da169e0e",
   "metadata": {},
   "outputs": [],
   "source": [
    "# Get the best hyperparameters and model\n",
    "best_params_nn = grid_search.best_params_\n",
    "best_model_nn = grid_search.best_estimator_\n",
    "\n",
    "# Train the model with the best hyperparameters\n",
    "best_model_nn.fit(X_train, y_train)  # X and y are your training data and labels\n",
    "\n",
    "# Save the best model to a file\n",
    "joblib.dump(best_model_nn, 'models/NN.pkl')"
   ]
  },
  {
   "cell_type": "markdown",
   "id": "6f228b0c",
   "metadata": {},
   "source": [
    "## Make Prediction"
   ]
  },
  {
   "cell_type": "code",
   "execution_count": null,
   "id": "b23939e9",
   "metadata": {},
   "outputs": [],
   "source": [
    "# Make predictions on the test data\n",
    "RFR = joblib.load('models/RFR.pkl')\n",
    "y_pred = RFR.predict(X_test)\n",
    "\n",
    "# Evaluate the model\n",
    "mse = mean_squared_error(y_test, y_pred)\n",
    "mae = mean_absolute_error(y_test, y_pred)\n",
    "r2 = r2_score(y_test, y_pred)\n",
    "\n",
    "score_dict=score_dict_add(score_dict,\"RFR_hyperparam\",mse,mae,r2,y_pred)"
   ]
  },
  {
   "cell_type": "code",
   "execution_count": null,
   "id": "e37f9ad9",
   "metadata": {},
   "outputs": [],
   "source": [
    "# Make predictions on the test data\n",
    "NN = joblib.load('models/NN.pkl')\n",
    "y_pred = NN.predict(X_test)\n",
    "\n",
    "# Evaluate the model\n",
    "mse = mean_squared_error(y_test, y_pred)\n",
    "mae = mean_absolute_error(y_test, y_pred)\n",
    "r2 = r2_score(y_test, y_pred)\n",
    "\n",
    "score_dict=score_dict_add(score_dict,\"MLPRegressor\",mse,mae,r2,y_pred)"
   ]
  },
  {
   "cell_type": "markdown",
   "id": "534da5d5",
   "metadata": {},
   "source": [
    "# Results"
   ]
  },
  {
   "cell_type": "code",
   "execution_count": null,
   "id": "5b5e8a94",
   "metadata": {},
   "outputs": [],
   "source": [
    "score_pd=pd.DataFrame(score_dict).transpose().sort_values('Mean Absolute Error')\n",
    "score_pd.iloc[:,0:3]\n",
    "score_pd.to_csv('results.csv')"
   ]
  },
  {
   "cell_type": "code",
   "execution_count": null,
   "id": "172ae792",
   "metadata": {},
   "outputs": [],
   "source": [
    "import seaborn as sns \n",
    "from matplotlib import pyplot as plt\n",
    "\n",
    "fig,ax=plt.subplots(3,1,figsize=(18,12))\n",
    "sns.lineplot(data=score_pd.iloc[:,[0]],markers=True,ax=ax[0])\n",
    "sns.lineplot(data=score_pd.iloc[:,[2]],markers=True,ax=ax[2])\n",
    "sns.lineplot(data=score_pd.iloc[:,[1]],markers=True,ax=ax[1])\n",
    "plt.tight_layout()\n",
    "plt.show()"
   ]
  },
  {
   "cell_type": "code",
   "execution_count": null,
   "id": "867806dd",
   "metadata": {},
   "outputs": [],
   "source": [
    "y_pred=score_dict['Random Forest Regression']['y_pred']\n",
    "\n",
    "# Create the figure and axes objects\n",
    "fig, ax = plt.subplots(figsize=(24, 10))\n",
    "\n",
    "# Plot the original prices and predictions\n",
    "sns.lineplot(y=y_test.values.ravel(), x=y_test.index, legend=False, ax=ax)\n",
    "sns.lineplot(y=y_pred, x=y_test.index, legend=False, ax=ax)\n",
    "\n",
    "# Set the title and legend\n",
    "ax.set_title('Original Price vs Prediction')\n",
    "ax.legend(['Original', 'Prediction'])\n",
    "\n",
    "# Display the plot\n",
    "plt.tight_layout()\n",
    "plt.show()\n"
   ]
  },
  {
   "cell_type": "code",
   "execution_count": null,
   "id": "bba7f1f8",
   "metadata": {},
   "outputs": [],
   "source": []
  },
  {
   "cell_type": "code",
   "execution_count": null,
   "id": "6c20f909",
   "metadata": {},
   "outputs": [],
   "source": [
    "\"\"\"model = keras.Sequential([\n",
    "    keras.layers.Dense(64, activation='relu', input_shape=(X_train.shape[1],)),\n",
    "    keras.layers.Dense(64, activation='relu'),\n",
    "    keras.layers.Dense(1)\n",
    "])\n",
    "\n",
    "# Compiling the model\n",
    "model.compile(optimizer='adam', loss='mean_squared_error')\"\"\""
   ]
  },
  {
   "cell_type": "code",
   "execution_count": null,
   "id": "ffa9bece",
   "metadata": {},
   "outputs": [],
   "source": [
    "\"\"\"# Training the model\n",
    "model.fit(X_train, y_train, epochs=100, batch_size=32)\"\"\""
   ]
  },
  {
   "cell_type": "code",
   "execution_count": null,
   "id": "119c2c38",
   "metadata": {},
   "outputs": [],
   "source": [
    "\"\"\"# Making predictions on the test set\n",
    "y_pred = model.predict(X_test)\n",
    "\n",
    "# Evaluating the model's performance\n",
    "mse = mean_squared_error(y_test, y_pred)\n",
    "mae = mean_absolute_error(y_test, y_pred)\n",
    "r2 = r2_score(y_test, y_pred)\n",
    "\n",
    "print(\"Neural Network Regression:\")\n",
    "print(\"Mean Squared Error:\", mse)\n",
    "print(\"Mean Absolute Error:\", mae)\n",
    "print(\"R^2 Score:\", r2)\"\"\""
   ]
  },
  {
   "cell_type": "code",
   "execution_count": null,
   "id": "47b98b3d",
   "metadata": {},
   "outputs": [],
   "source": []
  },
  {
   "cell_type": "code",
   "execution_count": null,
   "id": "71add847",
   "metadata": {},
   "outputs": [],
   "source": []
  },
  {
   "cell_type": "code",
   "execution_count": null,
   "id": "cb88330b",
   "metadata": {},
   "outputs": [],
   "source": []
  }
 ],
 "metadata": {
  "kernelspec": {
   "display_name": "Python 3 (ipykernel)",
   "language": "python",
   "name": "python3"
  },
  "language_info": {
   "codemirror_mode": {
    "name": "ipython",
    "version": 3
   },
   "file_extension": ".py",
   "mimetype": "text/x-python",
   "name": "python",
   "nbconvert_exporter": "python",
   "pygments_lexer": "ipython3",
   "version": "3.10.5"
  }
 },
 "nbformat": 4,
 "nbformat_minor": 5
}
